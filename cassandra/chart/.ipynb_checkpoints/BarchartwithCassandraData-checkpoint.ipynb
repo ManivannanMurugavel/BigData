{
 "cells": [
  {
   "cell_type": "code",
   "execution_count": 6,
   "metadata": {
    "collapsed": true
   },
   "outputs": [],
   "source": [
    "from plotly import __version__\n",
    "from plotly.offline import download_plotlyjs, init_notebook_mode, plot, iplot"
   ]
  },
  {
   "cell_type": "code",
   "execution_count": 7,
   "metadata": {
    "collapsed": true
   },
   "outputs": [],
   "source": [
    "from cassandra.cluster import Cluster"
   ]
  },
  {
   "cell_type": "code",
   "execution_count": 8,
   "metadata": {
    "collapsed": true
   },
   "outputs": [],
   "source": [
    "cluster = Cluster(['127.0.0.1'],port=9042)"
   ]
  },
  {
   "cell_type": "code",
   "execution_count": 9,
   "metadata": {},
   "outputs": [
    {
     "data": {
      "text/plain": [
       "<cassandra.cluster.ResultSet at 0x7f20dd178890>"
      ]
     },
     "execution_count": 9,
     "metadata": {},
     "output_type": "execute_result"
    }
   ],
   "source": [
    "session = cluster.connect()\n",
    "session.set_keyspace('whirldata')\n",
    "session.execute('USE whirldata')"
   ]
  },
  {
   "cell_type": "code",
   "execution_count": 10,
   "metadata": {
    "collapsed": true
   },
   "outputs": [],
   "source": [
    "rows = session.execute('SELECT x,y FROM chart')"
   ]
  },
  {
   "cell_type": "code",
   "execution_count": 11,
   "metadata": {
    "collapsed": true
   },
   "outputs": [],
   "source": [
    "data_x = list()\n",
    "data_y = list()"
   ]
  },
  {
   "cell_type": "code",
   "execution_count": 12,
   "metadata": {
    "collapsed": true
   },
   "outputs": [],
   "source": [
    "for user_row in rows:\n",
    "    data_x.append(user_row.x)\n",
    "    data_y.append(user_row.y)"
   ]
  },
  {
   "cell_type": "code",
   "execution_count": 13,
   "metadata": {},
   "outputs": [
    {
     "name": "stdout",
     "output_type": "stream",
     "text": [
      "([5, 1, 0, 2, 4, 6, 3], [9, 10, 3, 7, 6, 17, 12])\n"
     ]
    }
   ],
   "source": [
    "print(data_x,data_y)"
   ]
  },
  {
   "cell_type": "code",
   "execution_count": 15,
   "metadata": {},
   "outputs": [
    {
     "data": {
      "application/vnd.plotly.v1+json": {
       "data": [
        {
         "type": "bar",
         "x": [
          5,
          1,
          0,
          2,
          4,
          6,
          3
         ],
         "y": [
          9,
          10,
          3,
          7,
          6,
          17,
          12
         ]
        }
       ],
       "layout": {}
      }
     },
     "metadata": {},
     "output_type": "display_data"
    }
   ],
   "source": [
    "import plotly.graph_objs as go\n",
    "data = [go.Bar(\n",
    "            x=data_x,\n",
    "            y=data_y\n",
    "    )]\n",
    "iplot(data, filename='basic-bar')"
   ]
  },
  {
   "cell_type": "code",
   "execution_count": 16,
   "metadata": {},
   "outputs": [
    {
     "data": {
      "application/vnd.plotly.v1+json": {
       "data": [
        {
         "type": "bar",
         "x": [
          5,
          1,
          0,
          2,
          4,
          6,
          3
         ],
         "y": [
          9,
          10,
          3,
          7,
          6,
          17,
          12
         ]
        }
       ],
       "layout": {}
      }
     },
     "metadata": {},
     "output_type": "display_data"
    }
   ],
   "source": [
    "iplot(data, filename='basic-bar')"
   ]
  },
  {
   "cell_type": "code",
   "execution_count": 17,
   "metadata": {},
   "outputs": [
    {
     "name": "stdout",
     "output_type": "stream",
     "text": [
      "([5, 1, 0, 2, 4, 6, 3], [9, 10, 3, 7, 6, 17, 12])\n"
     ]
    }
   ],
   "source": [
    "print(data_x,data_y)"
   ]
  },
  {
   "cell_type": "code",
   "execution_count": 18,
   "metadata": {},
   "outputs": [
    {
     "data": {
      "application/vnd.plotly.v1+json": {
       "data": [
        {
         "type": "bar",
         "x": [
          5,
          1,
          0,
          2,
          4,
          6,
          3
         ],
         "y": [
          9,
          10,
          3,
          7,
          6,
          17,
          12
         ]
        }
       ],
       "layout": {}
      }
     },
     "metadata": {},
     "output_type": "display_data"
    }
   ],
   "source": [
    "data = [go.Bar(\n",
    "            x=data_x,\n",
    "            y=data_y\n",
    "    )]\n",
    "iplot(data, filename='basic-bar')"
   ]
  },
  {
   "cell_type": "code",
   "execution_count": 19,
   "metadata": {},
   "outputs": [
    {
     "name": "stdout",
     "output_type": "stream",
     "text": [
      "[{'y': [9, 10, 3, 7, 6, 17, 12], 'x': [5, 1, 0, 2, 4, 6, 3], 'type': 'bar'}]\n"
     ]
    }
   ],
   "source": [
    "print data"
   ]
  },
  {
   "cell_type": "code",
   "execution_count": 25,
   "metadata": {},
   "outputs": [
    {
     "data": {
      "text/html": [
       "<script>requirejs.config({paths: { 'plotly': ['https://cdn.plot.ly/plotly-latest.min']},});if(!window.Plotly) {{require(['plotly'],function(plotly) {window.Plotly=plotly;});}}</script>"
      ],
      "text/vnd.plotly.v1+html": [
       "<script>requirejs.config({paths: { 'plotly': ['https://cdn.plot.ly/plotly-latest.min']},});if(!window.Plotly) {{require(['plotly'],function(plotly) {window.Plotly=plotly;});}}</script>"
      ]
     },
     "metadata": {},
     "output_type": "display_data"
    },
    {
     "data": {
      "application/vnd.plotly.v1+json": {
       "data": [
        {
         "type": "bar",
         "x": [
          5,
          1,
          0,
          2,
          4,
          6,
          3
         ],
         "y": [
          9,
          10,
          3,
          7,
          6,
          17,
          12
         ]
        }
       ],
       "layout": {}
      },
      "text/html": [
       "<div id=\"542b1115-2b60-4cfb-8b50-6956cecb98ef\" style=\"height: 525px; width: 100%;\" class=\"plotly-graph-div\"></div><script type=\"text/javascript\">require([\"plotly\"], function(Plotly) { window.PLOTLYENV=window.PLOTLYENV || {};window.PLOTLYENV.BASE_URL=\"https://plot.ly\";Plotly.newPlot(\"542b1115-2b60-4cfb-8b50-6956cecb98ef\", [{\"y\": [9, 10, 3, 7, 6, 17, 12], \"x\": [5, 1, 0, 2, 4, 6, 3], \"type\": \"bar\"}], {}, {\"linkText\": \"Export to plot.ly\", \"showLink\": true})});</script>"
      ],
      "text/vnd.plotly.v1+html": [
       "<div id=\"542b1115-2b60-4cfb-8b50-6956cecb98ef\" style=\"height: 525px; width: 100%;\" class=\"plotly-graph-div\"></div><script type=\"text/javascript\">require([\"plotly\"], function(Plotly) { window.PLOTLYENV=window.PLOTLYENV || {};window.PLOTLYENV.BASE_URL=\"https://plot.ly\";Plotly.newPlot(\"542b1115-2b60-4cfb-8b50-6956cecb98ef\", [{\"y\": [9, 10, 3, 7, 6, 17, 12], \"x\": [5, 1, 0, 2, 4, 6, 3], \"type\": \"bar\"}], {}, {\"linkText\": \"Export to plot.ly\", \"showLink\": true})});</script>"
      ]
     },
     "metadata": {},
     "output_type": "display_data"
    }
   ],
   "source": [
    "init_notebook_mode(connected=True)\n",
    "data = [go.Bar(\n",
    "            x=data_x,\n",
    "            y=data_y\n",
    "    )]\n",
    "iplot(data, filename='basic-bar')"
   ]
  },
  {
   "cell_type": "code",
   "execution_count": null,
   "metadata": {
    "collapsed": true
   },
   "outputs": [],
   "source": []
  }
 ],
 "metadata": {
  "kernelspec": {
   "display_name": "Python 2",
   "language": "python",
   "name": "python2"
  },
  "language_info": {
   "codemirror_mode": {
    "name": "ipython",
    "version": 2
   },
   "file_extension": ".py",
   "mimetype": "text/x-python",
   "name": "python",
   "nbconvert_exporter": "python",
   "pygments_lexer": "ipython2",
   "version": "2.7.12"
  }
 },
 "nbformat": 4,
 "nbformat_minor": 2
}
